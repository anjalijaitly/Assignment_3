{
 "cells": [
  {
   "cell_type": "markdown",
   "id": "d8ea23f9",
   "metadata": {},
   "source": [
    "Q1. Why are functions advantageous to have in your program?\n",
    "\n",
    "Functions are advantageous because writing the same code again and again in a program can be avoided. A function can be called multiple times in a program. A large program can be tracked easily when it is divided into multiple functions. "
   ]
  },
  {
   "cell_type": "markdown",
   "id": "74423bb7",
   "metadata": {},
   "source": [
    "Q2. When does the code in a function run? When it's specified or when it's called?\n",
    "\n",
    "The code in a function run when it is called."
   ]
  },
  {
   "cell_type": "markdown",
   "id": "f01bd368",
   "metadata": {},
   "source": [
    "Q3. What statement creates a function?\n",
    "\n",
    "def keyword is used to create a function followed by the function name and parenthesis. An anonymous function can be created using a the keyword lambda.\n",
    "\n",
    "def function_name():\n",
    "or \n",
    "\n",
    "var= lambda x:x"
   ]
  },
  {
   "cell_type": "markdown",
   "id": "26dc4818",
   "metadata": {},
   "source": [
    "Q4. What is the difference between and a function and a function call?\n",
    "\n",
    "A function is a block of code to perform some specific task and returns back to the caller. \n",
    "\n",
    "A function call is using the function to achieve the task."
   ]
  },
  {
   "cell_type": "markdown",
   "id": "b75fc4ad",
   "metadata": {},
   "source": [
    "Q5. How many global scopes are there in a Python program? How many local scopes?\n",
    "\n",
    "In a python program there can be only one global scope. The local scope is created whenever the function is called.\n",
    "\n"
   ]
  },
  {
   "cell_type": "markdown",
   "id": "7c23d085",
   "metadata": {},
   "source": [
    "Q6. What happens to variables in a local scope when the function call returns?\n",
    "\n",
    "When the function call returns, the variables in the local scope get destroyed."
   ]
  },
  {
   "cell_type": "markdown",
   "id": "1a814fbe",
   "metadata": {},
   "source": [
    "Q7. What is the concept of a return value? Is it possible to have a return value in an expression?\n",
    "\n",
    "A return statement is used to end the execution of the function call and returns the result.\n",
    "\n",
    "Yes, we can have a return value in an expression."
   ]
  },
  {
   "cell_type": "markdown",
   "id": "fd43d0a9",
   "metadata": {},
   "source": [
    "Q8. If a function does not have a return statement, what is the return value of a call to that function?\n",
    "\n",
    "If a function does not have a return statement, the return value a call to that function is 'None."
   ]
  },
  {
   "cell_type": "markdown",
   "id": "325a2b29",
   "metadata": {},
   "source": [
    "Q9. How do you make a function variable refer to a global variable?\n",
    "\n",
    "To make a function variable refer to a global variable, we use the keyword global.\n",
    "\n",
    "e.g.:\n",
    "\n",
    "global x"
   ]
  },
  {
   "cell_type": "markdown",
   "id": "eb34ae0f",
   "metadata": {},
   "source": [
    "Q10. What is the data type of None?\n",
    "\n",
    "None type"
   ]
  },
  {
   "cell_type": "markdown",
   "id": "aa587f2a",
   "metadata": {},
   "source": [
    "Q11. What does the sentence import areallyourpetsnamederic do?\n",
    "\n",
    "It will import module areallyourpetsnamederic."
   ]
  },
  {
   "cell_type": "markdown",
   "id": "785410d9",
   "metadata": {},
   "source": [
    "Q12. If you had a bacon() feature in a spam module, what would you call it after importing spam?\n",
    "\n",
    "from spam import bacon()\n",
    "\n",
    "or\n",
    "\n",
    "spam.bacon()"
   ]
  },
  {
   "cell_type": "markdown",
   "id": "915b1697",
   "metadata": {},
   "source": [
    "Q13. What can you do to save a programme from from crashing if it encounters an error?\n",
    "\n",
    "To save a programme from crashing if it encounters a runtime error, we can use exceptional handling."
   ]
  },
  {
   "cell_type": "markdown",
   "id": "f12323d2",
   "metadata": {},
   "source": [
    "Q14. What is the purpose of try clause? What is the purpose of the except clause?\n",
    "\n",
    "try and except clause in python are used for exceptional handling. \n",
    "\n",
    "try clause gives code with exceptions. If an exceptionis raised, it jumps straing into the except block.\n",
    "except: except clause is executed if an exception occured in the try block.\n",
    "\n",
    "\n"
   ]
  },
  {
   "cell_type": "code",
   "execution_count": null,
   "id": "dcd181d2",
   "metadata": {},
   "outputs": [],
   "source": []
  }
 ],
 "metadata": {
  "kernelspec": {
   "display_name": "Python 3 (ipykernel)",
   "language": "python",
   "name": "python3"
  },
  "language_info": {
   "codemirror_mode": {
    "name": "ipython",
    "version": 3
   },
   "file_extension": ".py",
   "mimetype": "text/x-python",
   "name": "python",
   "nbconvert_exporter": "python",
   "pygments_lexer": "ipython3",
   "version": "3.9.12"
  }
 },
 "nbformat": 4,
 "nbformat_minor": 5
}
